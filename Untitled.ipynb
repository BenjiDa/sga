{
 "cells": [
  {
   "cell_type": "code",
   "execution_count": 2,
   "metadata": {
    "collapsed": false
   },
   "outputs": [
    {
     "ename": "SyntaxError",
     "evalue": "invalid syntax (<ipython-input-2-ee4431cfe222>, line 38)",
     "output_type": "error",
     "traceback": [
      "\u001b[0;36m  File \u001b[0;32m\"<ipython-input-2-ee4431cfe222>\"\u001b[0;36m, line \u001b[0;32m38\u001b[0m\n\u001b[0;31m    elif:\u001b[0m\n\u001b[0m        ^\u001b[0m\n\u001b[0;31mSyntaxError\u001b[0m\u001b[0;31m:\u001b[0m invalid syntax\n"
     ]
    }
   ],
   "source": [
    "@mfunction(\"dC\")\n",
    "def DirCosAxes(tX1=None, pX1=None, tX3=None):\n",
    "    #DirCosAxes calculates the direction cosines of a right handed, orthogonal\n",
    "    #X1,X2,X3 cartesian coordinate system of any orientation with respect to \n",
    "    #North-East-Down\n",
    "    #\n",
    "    #   USE: dC = DirCosAxes(tX1,pX1,tX3)\n",
    "    #\n",
    "    #   tX1 = trend of X1\n",
    "    #   pX1 = plunge of X1\n",
    "    #   tX3 = trend of X3\n",
    "    #   dC = 3 x 3 matrix containing the direction cosines of X1 (row 1),\n",
    "    #        X2 (row 2), and X3 (row 3)\n",
    "    #\n",
    "    #   Note: Input angles should be in radians\n",
    "    #\n",
    "    #   DirCosAxes uses function SphToCart\n",
    "    #\n",
    "    #MATLAB script written by Nestor Cardozo for the book Structural \n",
    "    #Geology Algorithms by Allmendinger, Cardozo, & Fisher, 2011. If you use\n",
    "    #this script, please cite this as \"Cardozo in Allmendinger et al. (2011)\"\n",
    "\n",
    "    #Some constants\n",
    "    east = pi / 2.0\n",
    "    west = 1.5 * pi\n",
    "\n",
    "    #Initialize matrix of direction cosines\n",
    "    dC = zeros(3, 3)\n",
    "\n",
    "    #Direction cosines of X1\n",
    "    [dC(1, 1), dC(1, 2), dC(1, 3)] = SphToCart(tX1, pX1, 0)\n",
    "\n",
    "    #Calculate plunge of axis 3\n",
    "    #If axis 1 is horizontal\n",
    "    if pX1 == 0.0:\n",
    "        if abs(tX1 - tX3) == east or abs(tX1 - tX3) == west:\n",
    "            pX3 = 0.0\n",
    "        elif:\n",
    "            pX3 = east\n",
    "            end\n",
    "            #Else\n",
    "        else:\n",
    "            #From Equation 2.14 and with theta equal to 90 degrees\n",
    "            pX3 = atan(-(dC(1, 1) * cos(tX3) + dC(1, 2) * sin(tX3)) / dC(1, 3))\n",
    "            end\n",
    "\n",
    "            #Direction cosines of X3\n",
    "            [dC(3, 1), dC(3, 2), dC(3, 3)] = SphToCart(tX3, pX3, 0)\n",
    "\n",
    "            #Compute direction cosines of X2 by the cross product of X3 and X1\n",
    "            dC(2, 1).lvalue = dC(3, 2) * dC(1, 3) - dC(3, 3) * dC(1, 2)\n",
    "            dC(2, 2).lvalue = dC(3, 3) * dC(1, 1) - dC(3, 1) * dC(1, 3)\n",
    "            dC(2, 3).lvalue = dC(3, 1) * dC(1, 2) - dC(3, 2) * dC(1, 1)\n",
    "            # Convert X2 to a unit vector\n",
    "            r = sqrt(dC(2, 1) * dC(2, 1) + dC(2, 2) * dC(2, 2) + dC(2, 3) * dC(2, 3))\n",
    "            for i in mslice[1:3]:\n",
    "                dC(2, i).lvalue = dC(2, i) / r\n",
    "                end\n",
    "\n",
    "               \n",
    "                "
   ]
  },
  {
   "cell_type": "code",
   "execution_count": null,
   "metadata": {
    "collapsed": true
   },
   "outputs": [],
   "source": []
  }
 ],
 "metadata": {
  "anaconda-cloud": {},
  "kernelspec": {
   "display_name": "Python [conda root]",
   "language": "python",
   "name": "conda-root-py"
  },
  "language_info": {
   "codemirror_mode": {
    "name": "ipython",
    "version": 2
   },
   "file_extension": ".py",
   "mimetype": "text/x-python",
   "name": "python",
   "nbconvert_exporter": "python",
   "pygments_lexer": "ipython2",
   "version": "2.7.12"
  }
 },
 "nbformat": 4,
 "nbformat_minor": 1
}
